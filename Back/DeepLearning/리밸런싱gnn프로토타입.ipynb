{
  "cells": [
    {
      "cell_type": "code",
      "execution_count": null,
      "metadata": {
        "colab": {
          "base_uri": "https://localhost:8080/"
        },
        "id": "Qka3ModUOYlA",
        "outputId": "4e669763-cf8c-4008-a4ab-fd2c4276222f"
      },
      "outputs": [
        {
          "output_type": "stream",
          "name": "stdout",
          "text": [
            "\u001b[31mERROR: Invalid requirement: 'cu124]+cu124.html': Expected end or semicolon (after name and no valid version specifier)\n",
            "    cu124]+cu124.html\n",
            "         ^\u001b[0m\u001b[31m\n",
            "\u001b[0m\u001b[31mERROR: Invalid requirement: 'cu124]+cu124.html': Expected end or semicolon (after name and no valid version specifier)\n",
            "    cu124]+cu124.html\n",
            "         ^\u001b[0m\u001b[31m\n",
            "\u001b[0m\u001b[31mERROR: Invalid requirement: 'cu124]+cu124.html': Expected end or semicolon (after name and no valid version specifier)\n",
            "    cu124]+cu124.html\n",
            "         ^\u001b[0m\u001b[31m\n",
            "\u001b[0m\u001b[31mERROR: Invalid requirement: 'cu124]+cu124.html': Expected end or semicolon (after name and no valid version specifier)\n",
            "    cu124]+cu124.html\n",
            "         ^\u001b[0m\u001b[31m\n",
            "\u001b[0mCollecting torch-geometric\n",
            "  Downloading torch_geometric-2.6.1-py3-none-any.whl.metadata (63 kB)\n",
            "\u001b[2K     \u001b[90m━━━━━━━━━━━━━━━━━━━━━━━━━━━━━━━━━━━━━━━━\u001b[0m \u001b[32m63.1/63.1 kB\u001b[0m \u001b[31m2.1 MB/s\u001b[0m eta \u001b[36m0:00:00\u001b[0m\n",
            "\u001b[?25hRequirement already satisfied: aiohttp in /usr/local/lib/python3.11/dist-packages (from torch-geometric) (3.11.15)\n",
            "Requirement already satisfied: fsspec in /usr/local/lib/python3.11/dist-packages (from torch-geometric) (2025.3.2)\n",
            "Requirement already satisfied: jinja2 in /usr/local/lib/python3.11/dist-packages (from torch-geometric) (3.1.6)\n",
            "Requirement already satisfied: numpy in /usr/local/lib/python3.11/dist-packages (from torch-geometric) (2.0.2)\n",
            "Requirement already satisfied: psutil>=5.8.0 in /usr/local/lib/python3.11/dist-packages (from torch-geometric) (5.9.5)\n",
            "Requirement already satisfied: pyparsing in /usr/local/lib/python3.11/dist-packages (from torch-geometric) (3.2.3)\n",
            "Requirement already satisfied: requests in /usr/local/lib/python3.11/dist-packages (from torch-geometric) (2.32.3)\n",
            "Requirement already satisfied: tqdm in /usr/local/lib/python3.11/dist-packages (from torch-geometric) (4.67.1)\n",
            "Requirement already satisfied: aiohappyeyeballs>=2.3.0 in /usr/local/lib/python3.11/dist-packages (from aiohttp->torch-geometric) (2.6.1)\n",
            "Requirement already satisfied: aiosignal>=1.1.2 in /usr/local/lib/python3.11/dist-packages (from aiohttp->torch-geometric) (1.3.2)\n",
            "Requirement already satisfied: attrs>=17.3.0 in /usr/local/lib/python3.11/dist-packages (from aiohttp->torch-geometric) (25.3.0)\n",
            "Requirement already satisfied: frozenlist>=1.1.1 in /usr/local/lib/python3.11/dist-packages (from aiohttp->torch-geometric) (1.5.0)\n",
            "Requirement already satisfied: multidict<7.0,>=4.5 in /usr/local/lib/python3.11/dist-packages (from aiohttp->torch-geometric) (6.3.2)\n",
            "Requirement already satisfied: propcache>=0.2.0 in /usr/local/lib/python3.11/dist-packages (from aiohttp->torch-geometric) (0.3.1)\n",
            "Requirement already satisfied: yarl<2.0,>=1.17.0 in /usr/local/lib/python3.11/dist-packages (from aiohttp->torch-geometric) (1.18.3)\n",
            "Requirement already satisfied: MarkupSafe>=2.0 in /usr/local/lib/python3.11/dist-packages (from jinja2->torch-geometric) (3.0.2)\n",
            "Requirement already satisfied: charset-normalizer<4,>=2 in /usr/local/lib/python3.11/dist-packages (from requests->torch-geometric) (3.4.1)\n",
            "Requirement already satisfied: idna<4,>=2.5 in /usr/local/lib/python3.11/dist-packages (from requests->torch-geometric) (3.10)\n",
            "Requirement already satisfied: urllib3<3,>=1.21.1 in /usr/local/lib/python3.11/dist-packages (from requests->torch-geometric) (2.3.0)\n",
            "Requirement already satisfied: certifi>=2017.4.17 in /usr/local/lib/python3.11/dist-packages (from requests->torch-geometric) (2025.1.31)\n",
            "Downloading torch_geometric-2.6.1-py3-none-any.whl (1.1 MB)\n",
            "\u001b[2K   \u001b[90m━━━━━━━━━━━━━━━━━━━━━━━━━━━━━━━━━━━━━━━━\u001b[0m \u001b[32m1.1/1.1 MB\u001b[0m \u001b[31m12.2 MB/s\u001b[0m eta \u001b[36m0:00:00\u001b[0m\n",
            "\u001b[?25hInstalling collected packages: torch-geometric\n",
            "Successfully installed torch-geometric-2.6.1\n"
          ]
        }
      ],
      "source": [
        "import torch\n",
        "\n",
        "def format_pytorch_version(version):\n",
        "    return version.split('+')\n",
        "\n",
        "TORCH_version = torch.__version__\n",
        "TORCH = format_pytorch_version(TORCH_version)\n",
        "\n",
        "def format_cuda_version(version):\n",
        "    return 'cu' + version.replace('.', '')\n",
        "\n",
        "CUDA_version = torch.version.cuda\n",
        "CUDA = format_cuda_version(CUDA_version)\n",
        "\n",
        "!pip install torch-scatter -f https://data.pyg.org/whl/torch-{TORCH}+{CUDA}.html\n",
        "!pip install torch-sparse -f https://data.pyg.org/whl/torch-{TORCH}+{CUDA}.html\n",
        "!pip install torch-cluster -f https://data.pyg.org/whl/torch-{TORCH}+{CUDA}.html\n",
        "!pip install torch-spline-conv -f https://data.pyg.org/whl/torch-{TORCH}+{CUDA}.html\n",
        "!pip install torch-geometric\n"
      ]
    },
    {
      "cell_type": "markdown",
      "metadata": {
        "id": "8jrxS1JCOYRW"
      },
      "source": []
    },
    {
      "cell_type": "code",
      "execution_count": null,
      "metadata": {
        "id": "PpbmnITDNFGr",
        "colab": {
          "base_uri": "https://localhost:8080/"
        },
        "outputId": "35216e96-6c50-410e-a988-b5b94a99952a"
      },
      "outputs": [
        {
          "output_type": "stream",
          "name": "stdout",
          "text": [
            "주식 리밸런싱 모델 구현 시작\n"
          ]
        }
      ],
      "source": [
        "import numpy as np\n",
        "import pandas as pd\n",
        "import matplotlib.pyplot as plt\n",
        "import networkx as nx\n",
        "import torch\n",
        "import torch.nn as nn\n",
        "import torch.nn.functional as F\n",
        "import torch.optim as optim\n",
        "from torch_geometric.nn import GCNConv, global_mean_pool\n",
        "from torch_geometric.data import Data\n",
        "from scipy.optimize import minimize\n",
        "from sklearn.preprocessing import StandardScaler\n",
        "import yfinance as yf\n",
        "from datetime import datetime, timedelta\n",
        "import heapq\n",
        "from scipy.optimize import curve_fit\n",
        "import warnings\n",
        "from sklearn.manifold import TSNE\n",
        "\n",
        "warnings.filterwarnings('ignore')\n",
        "\n",
        "# 필요한 라이브러리 설치\n",
        "try:\n",
        "    import torch_geometric\n",
        "except ImportError:\n",
        "    print(\"Installing required packages...\")\n",
        "    !pip install torch-geometric\n",
        "    !pip install yfinance\n",
        "    !pip install networkx\n",
        "    !pip install scipy\n",
        "    !pip install scikit-learn\n",
        "    !pip install matplotlib\n",
        "\n",
        "print(\"주식 리밸런싱 모델 구현 시작\")"
      ]
    },
    {
      "cell_type": "code",
      "execution_count": null,
      "metadata": {
        "id": "mv5jeb4WQdki"
      },
      "outputs": [],
      "source": [
        "#1 데이터 수집 및 전처리"
      ]
    },
    {
      "cell_type": "code",
      "execution_count": null,
      "metadata": {
        "id": "Bc9xWQ0LQlbg"
      },
      "outputs": [],
      "source": [
        "class DataProcessor:\n",
        "    def __init__(self, tickers, start_date, end_date):\n",
        "        self.tickers = tickers\n",
        "        self.start_date = start_date\n",
        "        self.end_date = end_date\n",
        "        self.data = None\n",
        "        self.returns = None\n",
        "        self.features = None\n",
        "        self.adjacency_matrix = None\n",
        "\n",
        "    def fetch_data(self):\n",
        "        \"\"\"Yahoo Finance에서 주식 데이터 가져오기\"\"\"\n",
        "        print(\"주식 데이터 가져오는 중...\")\n",
        "        self.data = yf.download(self.tickers, start=self.start_date, end=self.end_date, auto_adjust=False)\n",
        "        self.data = self.data['Adj Close']\n",
        "\n",
        "        # 결측치 처리\n",
        "        self.data = self.data.fillna(method='ffill')\n",
        "\n",
        "        # 수익률 계산\n",
        "        self.returns = self.data.pct_change().dropna()\n",
        "\n",
        "        return self.data\n",
        "\n",
        "    def calculate_five_factors(self):\n",
        "        \"\"\"5-Factor 모델 기반 특성 계산\"\"\"\n",
        "        print(\"5-Factor 모델 특성 계산 중...\")\n",
        "\n",
        "        # 시장 요인 (Market Factor) - 전체 시장 수익률\n",
        "        market_return = self.returns.mean(axis=1)\n",
        "\n",
        "        features = []\n",
        "\n",
        "        for ticker in self.tickers:\n",
        "            # 개별 주식 데이터\n",
        "            stock_data = yf.Ticker(ticker)\n",
        "\n",
        "            # 기본 정보\n",
        "            info = stock_data.info\n",
        "\n",
        "            # 1. 시장 요인 (Market Beta)\n",
        "            beta = np.cov(self.returns[ticker], market_return)[0, 1] / np.var(market_return)\n",
        "\n",
        "            # 2. 규모 요인 (Size Factor) - 시가총액\n",
        "            try:\n",
        "                market_cap = info.get('marketCap', 0)\n",
        "                if market_cap == 0:\n",
        "                    market_cap = self.data[ticker].iloc[-1] * info.get('sharesOutstanding', 1000000)\n",
        "            except:\n",
        "                market_cap = 1000000  # 기본값\n",
        "\n",
        "            # 3. 가치 요인 (Value Factor) - P/B 비율의 역수\n",
        "            try:\n",
        "                pb_ratio = info.get('priceToBook', 2)\n",
        "                value_factor = 1 / pb_ratio if pb_ratio > 0 else 0.5\n",
        "            except:\n",
        "                value_factor = 0.5  # 기본값\n",
        "\n",
        "            # 4. 수익성 요인 (Profitability) - ROE\n",
        "            try:\n",
        "                profitability = info.get('returnOnEquity', 0.1)\n",
        "                if profitability is None:\n",
        "                    profitability = 0.1\n",
        "            except:\n",
        "                profitability = 0.1  # 기본값\n",
        "\n",
        "            # 5. 투자 요인 (Investment) - 자산 증가율\n",
        "            try:\n",
        "                investment = info.get('totalAssets', 0) / info.get('totalAssetsPrevYear', 1) - 1\n",
        "                if investment is None or np.isnan(investment):\n",
        "                    investment = 0.05\n",
        "            except:\n",
        "                investment = 0.05  # 기본값\n",
        "\n",
        "            # 변동성 (추가 특성)\n",
        "            volatility = self.returns[ticker].std()\n",
        "\n",
        "            # 모멘텀 (추가 특성)\n",
        "            momentum = self.returns[ticker].iloc[-20:].mean()\n",
        "\n",
        "            features.append([\n",
        "                beta,\n",
        "                np.log(market_cap),\n",
        "                value_factor,\n",
        "                profitability,\n",
        "                investment,\n",
        "                volatility,\n",
        "                momentum\n",
        "            ])\n",
        "\n",
        "        # 특성 정규화\n",
        "        scaler = StandardScaler()\n",
        "        self.features = scaler.fit_transform(features)\n",
        "\n",
        "        return self.features\n",
        "\n",
        "    def create_adjacency_matrix(self):\n",
        "        \"\"\"주식 간 상관관계 기반 인접 행렬 생성\"\"\"\n",
        "        print(\"인접 행렬 생성 중...\")\n",
        "\n",
        "        # 상관관계 행렬 계산\n",
        "        correlation_matrix = self.returns.corr().abs().values\n",
        "\n",
        "        # 임계값 설정 (상관관계가 0.3 이상인 경우에만 연결)\n",
        "        threshold = 0.3\n",
        "        self.adjacency_matrix = (correlation_matrix > threshold).astype(float)\n",
        "\n",
        "        # 자기 자신과의 연결 제거\n",
        "        np.fill_diagonal(self.adjacency_matrix, 0)\n",
        "\n",
        "        return self.adjacency_matrix\n",
        "\n",
        "    def create_graph_data(self):\n",
        "        \"\"\"PyTorch Geometric 형식의 그래프 데이터 생성\"\"\"\n",
        "        print(\"그래프 데이터 생성 중...\")\n",
        "\n",
        "        # 특성 및 인접 행렬이 없는 경우 계산\n",
        "        if self.features is None:\n",
        "            self.calculate_five_factors()\n",
        "        if self.adjacency_matrix is None:\n",
        "            self.create_adjacency_matrix()\n",
        "\n",
        "        # 노드 특성\n",
        "        x = torch.FloatTensor(self.features)\n",
        "\n",
        "        # 엣지 인덱스 (인접 행렬에서 0이 아닌 요소의 인덱스)\n",
        "        edge_indices = np.where(self.adjacency_matrix > 0)\n",
        "        edge_index = torch.LongTensor(np.vstack(edge_indices))\n",
        "\n",
        "        # 엣지 가중치 (상관관계 값)\n",
        "        edge_attr = torch.FloatTensor(self.adjacency_matrix[edge_indices])\n",
        "\n",
        "        # 그래프 데이터 생성\n",
        "        graph_data = Data(x=x, edge_index=edge_index, edge_attr=edge_attr)\n",
        "\n",
        "        return graph_data\n"
      ]
    },
    {
      "cell_type": "code",
      "execution_count": null,
      "metadata": {
        "id": "iEvwRoQEQsmN"
      },
      "outputs": [],
      "source": [
        "#2 gnn 모델"
      ]
    },
    {
      "cell_type": "code",
      "execution_count": null,
      "metadata": {
        "id": "kVHf-2x6Qu-1"
      },
      "outputs": [],
      "source": [
        "class StockGNN(nn.Module):\n",
        "    def __init__(self, input_dim, hidden_dim, output_dim):\n",
        "        super(StockGNN, self).__init__()\n",
        "        self.conv1 = GCNConv(input_dim, hidden_dim)\n",
        "        self.conv2 = GCNConv(hidden_dim, hidden_dim)\n",
        "        # 출력 차원을 입력 특성 차원과 동일하게 변경 (7)\n",
        "        self.conv3 = GCNConv(hidden_dim, input_dim)\n",
        "        self.dropout = nn.Dropout(0.2)\n",
        "\n",
        "    def forward(self, data):\n",
        "        x, edge_index, edge_weight = data.x, data.edge_index, data.edge_attr\n",
        "\n",
        "        x = self.conv1(x, edge_index, edge_weight)\n",
        "        x = F.relu(x)\n",
        "        x = self.dropout(x)\n",
        "\n",
        "        x = self.conv2(x, edge_index, edge_weight)\n",
        "        x = F.relu(x)\n",
        "        x = self.dropout(x)\n",
        "\n",
        "        x = self.conv3(x, edge_index, edge_weight)\n",
        "\n",
        "        return x\n",
        "\n",
        "class GNNTrainer:\n",
        "    def __init__(self, graph_data, input_dim, hidden_dim, output_dim, lr=0.01):\n",
        "        self.graph_data = graph_data\n",
        "        self.model = StockGNN(input_dim, hidden_dim, output_dim)\n",
        "        self.optimizer = optim.Adam(self.model.parameters(), lr=lr)\n",
        "        self.criterion = nn.MSELoss()\n",
        "        self.loss_history = []\n",
        "\n",
        "    def train(self, epochs=100):\n",
        "        \"\"\"GNN 모델 학습\"\"\"\n",
        "        print(\"GNN 모델 학습 중...\")\n",
        "\n",
        "        self.model.train()\n",
        "\n",
        "        for epoch in range(epochs):\n",
        "            self.optimizer.zero_grad()\n",
        "\n",
        "            # 모델 예측\n",
        "            embeddings = self.model(self.graph_data)\n",
        "\n",
        "            # 손실 계산 (자기 재구성 손실)\n",
        "            loss = self.criterion(embeddings, self.graph_data.x)\n",
        "            self.loss_history.append(loss.item())\n",
        "\n",
        "            # 역전파\n",
        "            loss.backward()\n",
        "            self.optimizer.step()\n",
        "\n",
        "            if (epoch + 1) % 10 == 0:\n",
        "                print(f\"Epoch {epoch+1}/{epochs}, Loss: {loss.item():.4f}\")\n",
        "\n",
        "        # 학습 후 손실 시각화\n",
        "        self.plot_loss()\n",
        "\n",
        "        return self.model\n",
        "\n",
        "    def plot_loss(self):\n",
        "        \"\"\"손실 함수 그래프 시각화\"\"\"\n",
        "        plt.figure(figsize=(8, 5))\n",
        "        plt.plot(self.loss_history, label='Training Loss', color='blue')\n",
        "        plt.xlabel(\"Epoch\")\n",
        "        plt.ylabel(\"Loss\")\n",
        "        plt.title(\"GNN Training Loss\")\n",
        "        plt.legend()\n",
        "        plt.grid(True)\n",
        "        plt.show()\n",
        "\n",
        "    def get_embeddings(self, visualize=True, tickers=None):\n",
        "        \"\"\"학습된 모델을 사용하여 임베딩 생성 + 시각화\"\"\"\n",
        "        self.model.eval()\n",
        "        with torch.no_grad():\n",
        "            embeddings = self.model(self.graph_data).numpy()\n",
        "\n",
        "        if visualize:\n",
        "            self.visualize_embeddings(embeddings, tickers)\n",
        "\n",
        "        return embeddings\n",
        "\n",
        "    def visualize_embeddings(self, embeddings, tickers=None):\n",
        "        \"\"\"임베딩 2D 시각화 (t-SNE)\"\"\"\n",
        "        n_samples = embeddings.shape[0]\n",
        "        perplexity = min(5, n_samples - 1)  # ✅ 수정: t-SNE 오류 방지\n",
        "\n",
        "        tsne = TSNE(n_components=2, perplexity=perplexity, random_state=42)\n",
        "        embeddings_2d = tsne.fit_transform(embeddings)\n",
        "\n",
        "        plt.figure(figsize=(8, 6))\n",
        "        plt.scatter(embeddings_2d[:, 0], embeddings_2d[:, 1], c='skyblue', edgecolor='k', s=70)\n",
        "\n",
        "        if tickers:\n",
        "            for i, ticker in enumerate(tickers):\n",
        "                plt.text(embeddings_2d[i, 0], embeddings_2d[i, 1], ticker, fontsize=9)\n",
        "\n",
        "        plt.title(\"t-SNE Visualization of Stock Embeddings\")\n",
        "        plt.grid(True)\n",
        "        plt.show()\n"
      ]
    },
    {
      "cell_type": "code",
      "execution_count": null,
      "metadata": {
        "id": "RHGCTwXVRKWQ"
      },
      "outputs": [],
      "source": [
        "# 7. 모델 실행 및 테스트"
      ]
    },
    {
      "cell_type": "code",
      "execution_count": null,
      "metadata": {
        "colab": {
          "base_uri": "https://localhost:8080/",
          "height": 1000
        },
        "id": "zaJJREvORL97",
        "outputId": "86368d20-c2da-4247-facb-cd6b1bcd7f97"
      },
      "outputs": [
        {
          "output_type": "stream",
          "name": "stderr",
          "text": [
            "[*********************100%***********************]  10 of 10 completed"
          ]
        },
        {
          "output_type": "stream",
          "name": "stdout",
          "text": [
            "📦 [1] 데이터 수집 중...\n",
            "주식 데이터 가져오는 중...\n",
            "5-Factor 모델 특성 계산 중...\n"
          ]
        },
        {
          "output_type": "stream",
          "name": "stderr",
          "text": [
            "\n"
          ]
        },
        {
          "output_type": "stream",
          "name": "stdout",
          "text": [
            "인접 행렬 생성 중...\n",
            "그래프 데이터 생성 중...\n",
            "✅ [1] 데이터 완료\n",
            "\n",
            "🚀 [2] GNN 학습 시작\n",
            "GNN 모델 학습 중...\n",
            "Epoch 10/50, Loss: 0.6673\n",
            "Epoch 20/50, Loss: 0.5849\n",
            "Epoch 30/50, Loss: 0.5184\n",
            "Epoch 40/50, Loss: 0.4915\n",
            "Epoch 50/50, Loss: 0.5565\n"
          ]
        },
        {
          "output_type": "display_data",
          "data": {
            "text/plain": [
              "<Figure size 800x500 with 1 Axes>"
            ],
            "image/png": "[encoded data removed]"
          },
          "metadata": {}
        },
        {
          "output_type": "stream",
          "name": "stdout",
          "text": [
            "\n",
            "🎯 [3] GNN 임베딩 시각화\n"
          ]
        },
        {
          "output_type": "display_data",
          "data": {
            "text/plain": [
              "<Figure size 800x600 with 1 Axes>"
            ],
            "image/png": "[encoded data removed]"
          },
          "metadata": {}
        }
      ],
      "source": [
        "from datetime import datetime, timedelta\n",
        "\n",
        "# 1. 사용할 한국 주식 티커\n",
        "tickers = ['005930.KS', '000660.KS', '035420.KS', '051910.KS', '035720.KS',\n",
        "           '005380.KS', '000270.KS', '068270.KS', '105560.KS', '055550.KS']\n",
        "\n",
        "# 2. 날짜 범위 설정\n",
        "end_date = datetime.now()\n",
        "start_date = end_date - timedelta(days=365 * 2)\n",
        "\n",
        "# 3. 데이터 수집 및 전처리\n",
        "processor = DataProcessor(\n",
        "    tickers=tickers,\n",
        "    start_date=start_date.strftime('%Y-%m-%d'),\n",
        "    end_date=end_date.strftime('%Y-%m-%d')\n",
        ")\n",
        "\n",
        "print(\"📦 [1] 데이터 수집 중...\")\n",
        "processor.fetch_data()\n",
        "processor.calculate_five_factors()\n",
        "processor.create_adjacency_matrix()\n",
        "graph_data = processor.create_graph_data()\n",
        "print(\"✅ [1] 데이터 완료\")\n",
        "\n",
        "# 4. GNN 모델 학습\n",
        "input_dim = processor.features.shape[1]\n",
        "hidden_dim = 16\n",
        "output_dim = input_dim  # 재구성 목적이니까 input과 동일\n",
        "\n",
        "trainer = GNNTrainer(graph_data, input_dim, hidden_dim, output_dim)\n",
        "\n",
        "print(\"\\n🚀 [2] GNN 학습 시작\")\n",
        "model = trainer.train(epochs=50)\n",
        "\n",
        "print(\"\\n🎯 [3] GNN 임베딩 시각화\")\n",
        "embeddings = trainer.get_embeddings(visualize=True, tickers=tickers)\n"
      ]
    },
    {
      "cell_type": "markdown",
      "metadata": {
        "id": "iyJCzEy-Q_zO"
      },
      "source": []
    }
  ],
  "metadata": {
    "accelerator": "GPU",
    "colab": {
      "gpuType": "T4",
      "provenance": []
    },
    "kernelspec": {
      "display_name": "Python 3",
      "name": "python3"
    },
    "language_info": {
      "name": "python"
    }
  },
  "nbformat": 4,
  "nbformat_minor": 0
}